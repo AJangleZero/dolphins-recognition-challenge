{
 "cells": [
  {
   "cell_type": "code",
   "execution_count": null,
   "metadata": {},
   "outputs": [],
   "source": [
    "# default_exp playground"
   ]
  },
  {
   "cell_type": "markdown",
   "metadata": {},
   "source": [
    "# Playground\n",
    "\n",
    "> Playground for testing new ideas"
   ]
  },
  {
   "cell_type": "code",
   "execution_count": null,
   "metadata": {},
   "outputs": [
    {
     "name": "stdout",
     "output_type": "stream",
     "text": [
      "Defaulting to user installation because normal site-packages is not writeable\n",
      "Collecting dropbox\n",
      "  Downloading dropbox-11.0.0-py3-none-any.whl (551 kB)\n",
      "\u001b[K     |████████████████████████████████| 551 kB 996 kB/s eta 0:00:01\n",
      "\u001b[?25hCollecting stone>=2.*\n",
      "  Downloading stone-3.2.1-py3-none-any.whl (160 kB)\n",
      "\u001b[K     |████████████████████████████████| 160 kB 94 kB/s eta 0:00:01\n",
      "\u001b[?25hRequirement already satisfied: requests>=2.16.2 in /usr/local/lib/python3.6/dist-packages (from dropbox) (2.24.0)\n",
      "Requirement already satisfied: six>=1.12.0 in /usr/local/lib/python3.6/dist-packages (from dropbox) (1.15.0)\n",
      "Requirement already satisfied: ply>=3.4 in /usr/local/lib/python3.6/dist-packages (from stone>=2.*->dropbox) (3.11)\n",
      "Requirement already satisfied: chardet<4,>=3.0.2 in /usr/local/lib/python3.6/dist-packages (from requests>=2.16.2->dropbox) (3.0.4)\n",
      "Requirement already satisfied: urllib3!=1.25.0,!=1.25.1,<1.26,>=1.21.1 in /usr/local/lib/python3.6/dist-packages (from requests>=2.16.2->dropbox) (1.25.10)\n",
      "Requirement already satisfied: certifi>=2017.4.17 in /usr/local/lib/python3.6/dist-packages (from requests>=2.16.2->dropbox) (2020.6.20)\n",
      "Requirement already satisfied: idna<3,>=2.5 in /usr/lib/python3/dist-packages (from requests>=2.16.2->dropbox) (2.6)\n",
      "Installing collected packages: stone, dropbox\n",
      "Successfully installed dropbox-11.0.0 stone-3.2.1\n",
      "\u001b[33mWARNING: You are using pip version 20.2.3; however, version 20.3.1 is available.\n",
      "You should consider upgrading via the '/usr/bin/python3 -m pip install --upgrade pip' command.\u001b[0m\n"
     ]
    }
   ],
   "source": [
    "!pip install dropbox"
   ]
  },
  {
   "cell_type": "code",
   "execution_count": null,
   "metadata": {},
   "outputs": [],
   "source": []
  }
 ],
 "metadata": {
  "kernelspec": {
   "display_name": "Python 3",
   "language": "python",
   "name": "python3"
  }
 },
 "nbformat": 4,
 "nbformat_minor": 2
}
