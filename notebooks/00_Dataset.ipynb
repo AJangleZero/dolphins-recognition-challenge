{
 "cells": [
  {
   "cell_type": "code",
   "execution_count": null,
   "metadata": {},
   "outputs": [],
   "source": [
    "# default_exp datasets"
   ]
  },
  {
   "cell_type": "markdown",
   "metadata": {},
   "source": [
    "# Datasets\n",
    "\n",
    "> The challenge has two parts: instance segmentation of dolphins in the photo and recognition of an individual dolphin from the photo. "
   ]
  },
  {
   "cell_type": "code",
   "execution_count": null,
   "metadata": {},
   "outputs": [
    {
     "name": "stdout",
     "output_type": "stream",
     "text": [
      "numpy       : 1.18.5      \n",
      "pandas      : 1.1.5       \n",
      "torch       : 1.7.1       \n"
     ]
    }
   ],
   "source": [
    "#hide\n",
    "\n",
    "from nbdev.showdoc import *\n",
    "\n",
    "import numpy as np\n",
    "import pandas as pd\n",
    "import torch\n",
    "\n",
    "for m in [np, pd, torch]:\n",
    "    print(f\"{m.__name__:12}: {m.__version__:12}\")"
   ]
  },
  {
   "cell_type": "markdown",
   "metadata": {},
   "source": [
    "## Instance segmentation dataset"
   ]
  },
  {
   "cell_type": "code",
   "execution_count": null,
   "metadata": {},
   "outputs": [],
   "source": [
    "#export\n",
    "\n",
    "def get_dataset(name: str = \"segmentation\") -> None:\n",
    "    \"\"\" Get one of two datasets available. The parameter `name` can be one of 'segmentation' and 'classification'\n",
    "    \"\"\"\n",
    "    if name == \"segmentation\":\n",
    "        raise NotImplementedError()\n",
    "    elif name == \"classification\":\n",
    "        raise NotImplementedError()\n",
    "    else:\n",
    "        raise ValueError(f\"name should be either 'segmentation' or 'classification', but it is '{name}'.\")\n"
   ]
  }
 ],
 "metadata": {
  "kernelspec": {
   "display_name": "Python 3",
   "language": "python",
   "name": "python3"
  }
 },
 "nbformat": 4,
 "nbformat_minor": 2
}
