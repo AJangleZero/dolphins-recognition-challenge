{
 "cells": [
  {
   "cell_type": "code",
   "execution_count": null,
   "metadata": {},
   "outputs": [],
   "source": [
    "# default_exp datasets"
   ]
  },
  {
   "cell_type": "markdown",
   "metadata": {},
   "source": [
    "# Datasets\n",
    "\n",
    "> The challenge has two parts:\n",
    "- instance segmentation of dolphins in the photo and\n",
    "- recognition of an individual dolphin from the photo. "
   ]
  },
  {
   "cell_type": "code",
   "execution_count": null,
   "metadata": {},
   "outputs": [],
   "source": [
    "# export\n",
    "\n",
    "from pathlib import Path\n",
    "from typing import *"
   ]
  },
  {
   "cell_type": "code",
   "execution_count": null,
   "metadata": {},
   "outputs": [],
   "source": [
    "# exporti\n",
    "\n",
    "\n",
    "import numpy as np\n",
    "import shutil\n",
    "from datetime import datetime\n",
    "import torch\n",
    "import torch.utils.data\n",
    "from torch.hub import download_url_to_file\n",
    "import torchvision\n",
    "import PIL\n",
    "from PIL import Image\n",
    "from zipfile import ZipFile\n",
    "\n",
    "from torchvision.models.detection.faster_rcnn import FastRCNNPredictor\n",
    "from torchvision.models.detection.mask_rcnn import MaskRCNNPredictor\n",
    "from tempfile import TemporaryDirectory\n",
    "\n",
    "import git"
   ]
  },
  {
   "cell_type": "code",
   "execution_count": null,
   "metadata": {},
   "outputs": [],
   "source": [
    "#exporti\n",
    "\n",
    "# Download TorchVision repo to use some files from\n",
    "# references/detection\n",
    "\n",
    "if not Path(\"coco_utils.py\").exists():\n",
    "\n",
    "    with TemporaryDirectory() as d:\n",
    "        vision_root = Path(d) / \"vision\"\n",
    "        \n",
    "        git.repo.base.Repo.clone_from(url=\"https://github.com/pytorch/vision.git\", to_path=vision_root)\n",
    "        assert vision_root.exists() and vision_root.is_dir()\n",
    "        \n",
    "        detection_root = vision_root / \"references\" / \"detection\"\n",
    "        py_files = list(detection_root.glob(\"**/*.py\"))\n",
    "        assert len(py_files) >= 7\n",
    "\n",
    "        for f_src in py_files:\n",
    "            f_dst = (Path(\".\") / f_src.name)\n",
    "            print(f\"Copy: {f_src.resolve()} -> {f_dst.resolve()}\")\n",
    "            shutil.copy(f_src, f_dst)\n",
    "            assert f_dst.exists() and not f_dst.is_dir()\n",
    "\n",
    "assert Path(\"engine.py\").exists()\n",
    "assert Path(\"transforms.py\").exists()\n",
    "assert Path(\"coco_utils.py\").exists()\n",
    "\n",
    "# imports\n",
    "from engine import train_one_epoch, evaluate\n",
    "import transforms as T\n",
    "import utils\n"
   ]
  },
  {
   "cell_type": "code",
   "execution_count": null,
   "metadata": {},
   "outputs": [
    {
     "name": "stdout",
     "output_type": "stream",
     "text": [
      "numpy       : 1.18.5\n",
      "torch       : 1.7.1\n",
      "torchvision : 0.8.2\n",
      "PIL         : 7.2.0\n"
     ]
    }
   ],
   "source": [
    "# hide\n",
    "\n",
    "for m in [np, torch, torchvision, PIL]:\n",
    "    print(f\"{m.__name__:12}: {m.__version__}\")"
   ]
  },
  {
   "cell_type": "code",
   "execution_count": null,
   "metadata": {},
   "outputs": [],
   "source": [
    "#exporti\n",
    "\n",
    "dataset_url = \"https://s3.eu-central-1.amazonaws.com/ai-league.cisex.org/2020-2021/dolphins-instance-segmentation/dolphins_200.zip\""
   ]
  },
  {
   "cell_type": "code",
   "execution_count": null,
   "metadata": {},
   "outputs": [],
   "source": [
    "#exporti\n",
    "\n",
    "dataset_root = Path(\"./data/dolphins_200\")\n",
    "dataset_zip = dataset_root.parent / \"dolphins_200.zip\"\n",
    "\n",
    "def _download_data_if_needed():\n",
    "\n",
    "    dataset_zip.parent.mkdir(parents=True, exist_ok=True)\n",
    "\n",
    "    if not dataset_zip.exists():\n",
    "        torch.hub.download_url_to_file(\n",
    "            dataset_url,\n",
    "            dataset_zip,\n",
    "            hash_prefix=None,\n",
    "            progress=True,\n",
    "        )\n",
    "\n",
    "\n",
    "    with ZipFile(dataset_zip, 'r') as zip_ref:\n",
    "        zip_ref.extractall(dataset_root)\n"
   ]
  },
  {
   "cell_type": "code",
   "execution_count": null,
   "metadata": {},
   "outputs": [],
   "source": [
    "# hide\n",
    "\n",
    "_download_data_if_needed()\n",
    "\n",
    "assert dataset_root.exists() and dataset_root.is_dir()\n",
    "\n",
    "images_path = dataset_root / \"JPEGImages\"\n",
    "instance_path = dataset_root / \"SegmentationObject\"\n",
    "class_path = dataset_root / \"SegmentationClass\"\n",
    "\n",
    "image_files = sorted([x for x in images_path.glob(\"**/*\")])\n",
    "assert len(image_files) >= 200\n",
    "\n",
    "instance_files = sorted([x for x in instance_path.glob(\"**/*\")])\n",
    "assert len(instance_files) >= 200\n",
    "\n",
    "class_files = sorted([x for x in class_path.glob(\"**/*\")])\n",
    "assert len(class_files) >= 200"
   ]
  },
  {
   "cell_type": "code",
   "execution_count": null,
   "metadata": {},
   "outputs": [],
   "source": [
    "# exporti\n",
    "\n",
    "\n",
    "def _enumerate_colors_for_fname(fname: Path) -> Tuple[int, int, int]:\n",
    "    \"\"\"Finds all colors in the image\"\"\"\n",
    "    img = Image.open(fname)\n",
    "    colors = [y for x, y in img.getcolors()]\n",
    "    return colors"
   ]
  },
  {
   "cell_type": "code",
   "execution_count": null,
   "metadata": {},
   "outputs": [],
   "source": [
    "# hide\n",
    "\n",
    "test_file = class_path / \"070624_6_1_0022.png\"\n",
    "\n",
    "actual = _enumerate_colors_for_fname(test_file)\n",
    "\n",
    "expected = [(255, 0, 0), (0, 0, 0)]\n",
    "assert actual == expected, f\"{actual} == {expected}\""
   ]
  },
  {
   "cell_type": "code",
   "execution_count": null,
   "metadata": {},
   "outputs": [],
   "source": [
    "# exporti\n",
    "\n",
    "\n",
    "def _enumerate_colors_for_fnames(fnames: List[Path]) -> Dict[Tuple[int, int, int], int]:\n",
    "    \"\"\"This function is used to pin (0, 0, 0) color to the front of palette\"\"\"\n",
    "    colors = np.array([_enumerate_colors_for_fname(fname) for fname in fnames]).reshape(\n",
    "        -1, 3\n",
    "    )\n",
    "    colors = set([tuple(x) for x in colors.tolist() if tuple(x) != (0, 0, 0)])\n",
    "    colors = [(0, 0, 0)] + list(colors)\n",
    "    return {x: i for i, x in enumerate(colors)}"
   ]
  },
  {
   "cell_type": "code",
   "execution_count": null,
   "metadata": {},
   "outputs": [],
   "source": [
    "# hide\n",
    "\n",
    "actual = _enumerate_colors_for_fnames(class_files)\n",
    "\n",
    "expected = {(0, 0, 0): 0, (255, 0, 0): 1}\n",
    "\n",
    "assert actual == expected, f\"{actual} == {expected}\""
   ]
  },
  {
   "cell_type": "code",
   "execution_count": null,
   "metadata": {},
   "outputs": [],
   "source": [
    "# exporti\n",
    "\n",
    "\n",
    "def _substitute_values(xs: np.array, x, y):\n",
    "    \"\"\"Not sure I understand what this does\"\"\"\n",
    "    ix_x = xs == x\n",
    "    ix_y = xs == y\n",
    "    xs[ix_x] = y\n",
    "    xs[ix_y] = x"
   ]
  },
  {
   "cell_type": "code",
   "execution_count": null,
   "metadata": {},
   "outputs": [],
   "source": [
    "# exporti\n",
    "\n",
    "\n",
    "def _enumerate_image_for_instances(\n",
    "    im: Image, force_black_to_zero: bool = True, max_colors=16\n",
    ") -> np.array:\n",
    "    \"\"\"convert rgb image mask to enumerated image mask\"\"\"\n",
    "    pallete_mask = im.convert(\"P\", palette=Image.ADAPTIVE, colors=max_colors)\n",
    "\n",
    "    xs = np.array(pallete_mask)\n",
    "\n",
    "    if force_black_to_zero:\n",
    "        _substitute_values(xs, 0, xs.max())\n",
    "\n",
    "    return xs"
   ]
  },
  {
   "cell_type": "code",
   "execution_count": null,
   "metadata": {},
   "outputs": [],
   "source": [
    "# hide\n",
    "\n",
    "enum_instance = _enumerate_image_for_instances(Image.open(instance_files[0]))\n",
    "assert enum_instance.shape == (500, 750)\n",
    "\n",
    "unique_enum_instance = np.unique(np.array(enum_instance))\n",
    "assert sorted(unique_enum_instance) == [0, 1, 2] # for this particular photo"
   ]
  },
  {
   "cell_type": "code",
   "execution_count": null,
   "metadata": {},
   "outputs": [],
   "source": [
    "# exporti\n",
    "\n",
    "\n",
    "def _enumerate_image_for_classes(\n",
    "    im: Image,\n",
    "    colors: Dict[Tuple[int], int] = None,\n",
    ") -> np.array:\n",
    "    \"\"\"Enumerates classes from the rbg format\"\"\"\n",
    "    xs = np.array(im)\n",
    "    xs = [\n",
    "        ((xs == color).all(axis=-1)).astype(int) * code\n",
    "        for color, code in colors.items()\n",
    "    ]\n",
    "    xs_sum = xs[0]\n",
    "    for i in range(1, len(xs)):\n",
    "        xs_sum = xs_sum + xs[i]\n",
    "    return xs_sum.astype(\"uint8\")"
   ]
  },
  {
   "cell_type": "code",
   "execution_count": null,
   "metadata": {},
   "outputs": [],
   "source": [
    "# hide\n",
    "\n",
    "class_palette = _enumerate_colors_for_fnames(class_files)\n",
    "assert class_palette == class_palette\n",
    "\n",
    "img = Image.open(class_files[0])\n",
    "\n",
    "enum_classes = _enumerate_image_for_classes(img, class_palette)\n",
    "assert enum_classes.shape == (500, 750)\n",
    "\n",
    "unique_enum_classes = np.unique(enum_classes)\n",
    "assert set(unique_enum_classes) == {0, 1}, f\"{unique_enum_classes}\""
   ]
  },
  {
   "cell_type": "code",
   "execution_count": null,
   "metadata": {},
   "outputs": [],
   "source": [
    "# exporti\n",
    "\n",
    "\n",
    "class DolphinsInstanceSegmentationDataset(torch.utils.data.Dataset):\n",
    "    \"\"\"Instance segmentation dataset\n",
    "    \"\"\"\n",
    "    def __init__(self, root: Path, transforms=None):\n",
    "        self.root = root\n",
    "        self.transforms = transforms\n",
    "        # load all image files, sorting them to\n",
    "        # ensure that they are aligned\n",
    "        self.img_paths = sorted((root / \"JPEGImages\").glob(\"*.*\"))\n",
    "        self.label_paths = sorted((root / \"SegmentationClass\").glob(\"*.*\"))\n",
    "        self.mask_paths = sorted((root / \"SegmentationObject\").glob(\"*.*\"))\n",
    "\n",
    "        self.class_colors = _enumerate_colors_for_fnames(self.label_paths)\n",
    "\n",
    "    def __getitem__(self, idx):\n",
    "        # load images ad masks\n",
    "        img_path = self.img_paths[idx]\n",
    "        label_path = self.label_paths[idx]\n",
    "        mask_path = self.mask_paths[idx]\n",
    "\n",
    "        img = Image.open(img_path).convert(\"RGB\")\n",
    "\n",
    "        # note that we haven't converted the mask to RGB,\n",
    "        # because each color corresponds to a different instance\n",
    "        # with 0 being background\n",
    "        mask_img = Image.open(mask_path)\n",
    "        mask = _enumerate_image_for_instances(mask_img)\n",
    "\n",
    "        # instances are encoded as different colors\n",
    "        obj_ids = np.unique(mask)\n",
    "\n",
    "        # first id is the background, so remove it\n",
    "        obj_ids = obj_ids[1:]\n",
    "\n",
    "        # split the color-encoded mask into a set\n",
    "        # of binary masks\n",
    "        masks = (mask == obj_ids[:, None, None])\n",
    "        \n",
    "        label_img = Image.open(label_path)\n",
    "        label_array = _enumerate_image_for_classes(label_img, self.class_colors)\n",
    "        # get bounding box coordinates for each mask\n",
    "        num_objs = len(obj_ids)\n",
    "        boxes = []\n",
    "        labels = []\n",
    "        for i in range(num_objs):\n",
    "            pos = np.where(masks[i])\n",
    "            xmin = np.min(pos[1])\n",
    "            xmax = np.max(pos[1])\n",
    "            ymin = np.min(pos[0])\n",
    "            ymax = np.max(pos[0])\n",
    "            boxes.append([xmin, ymin, xmax, ymax])\n",
    "\n",
    "            class_mask = label_array * masks[i]\n",
    "            label, count = np.unique(class_mask, return_counts=True)\n",
    "            assert label.shape[0] <= 2\n",
    "            label = max(label)\n",
    "            labels.append(label)\n",
    "\n",
    "        boxes = torch.as_tensor(boxes, dtype=torch.float32)\n",
    "        # there WAS multi class\n",
    "        # labels = torch.as_tensor(labels, dtype=torch.int64)\n",
    "        labels = torch.ones((num_objs,), dtype=torch.int64)\n",
    "\n",
    "        masks = torch.as_tensor(masks, dtype=torch.uint8)\n",
    "\n",
    "        image_id = torch.tensor([idx])\n",
    "        area = (boxes[:, 3] - boxes[:, 1]) * (boxes[:, 2] - boxes[:, 0])\n",
    "        # suppose all instances are not crowd\n",
    "        iscrowd = torch.zeros((num_objs,), dtype=torch.int64)\n",
    "\n",
    "        target = {}\n",
    "        target[\"boxes\"] = boxes\n",
    "        target[\"labels\"] = labels\n",
    "        target[\"masks\"] = masks\n",
    "        target[\"image_id\"] = image_id\n",
    "        target[\"area\"] = area\n",
    "        target[\"iscrowd\"] = iscrowd\n",
    "\n",
    "        if self.transforms is not None:\n",
    "            img, target = self.transforms(img, target)\n",
    "\n",
    "        return img, target\n",
    "\n",
    "    def __len__(self):\n",
    "        return len(self.img_paths)"
   ]
  },
  {
   "cell_type": "code",
   "execution_count": null,
   "metadata": {},
   "outputs": [
    {
     "data": {
      "text/plain": [
       "(<PIL.Image.Image image mode=RGB size=750x500 at 0x7F8A491E2BA8>,\n",
       " {'boxes': tensor([[539., 236., 734., 320.],\n",
       "          [301., 248., 554., 339.]]),\n",
       "  'labels': tensor([1, 1]),\n",
       "  'masks': tensor([[[0, 0, 0,  ..., 0, 0, 0],\n",
       "           [0, 0, 0,  ..., 0, 0, 0],\n",
       "           [0, 0, 0,  ..., 0, 0, 0],\n",
       "           ...,\n",
       "           [0, 0, 0,  ..., 0, 0, 0],\n",
       "           [0, 0, 0,  ..., 0, 0, 0],\n",
       "           [0, 0, 0,  ..., 0, 0, 0]],\n",
       "  \n",
       "          [[0, 0, 0,  ..., 0, 0, 0],\n",
       "           [0, 0, 0,  ..., 0, 0, 0],\n",
       "           [0, 0, 0,  ..., 0, 0, 0],\n",
       "           ...,\n",
       "           [0, 0, 0,  ..., 0, 0, 0],\n",
       "           [0, 0, 0,  ..., 0, 0, 0],\n",
       "           [0, 0, 0,  ..., 0, 0, 0]]], dtype=torch.uint8),\n",
       "  'image_id': tensor([0]),\n",
       "  'area': tensor([16380., 23023.]),\n",
       "  'iscrowd': tensor([0, 0])})"
      ]
     },
     "execution_count": null,
     "metadata": {},
     "output_type": "execute_result"
    }
   ],
   "source": [
    "# hide\n",
    "\n",
    "dataset = DolphinsInstanceSegmentationDataset(dataset_root)\n",
    "dataset[0]"
   ]
  },
  {
   "cell_type": "code",
   "execution_count": null,
   "metadata": {},
   "outputs": [],
   "source": [
    "# exporti\n",
    "\n",
    "def _get_instance_segmentation_dataset(\n",
    "    *,\n",
    "    get_transform: Callable[[bool], Callable] = (lambda train: None),\n",
    "    batch_size: int = 4,\n",
    "    val_split: float = 0.2,\n",
    "    num_workers: int = 4\n",
    ") -> Tuple[torch.utils.data.dataloader.DataLoader, torch.utils.data.dataloader.DataLoader]:\n",
    "    \"\"\"Get dataset for instance segmentation. Make sure you define get_transform function.\"\"\"\n",
    "\n",
    "    # get data if needed\n",
    "    _download_data_if_needed()\n",
    "    root_path = Path(dataset_root)\n",
    "    assert root_path.exists()\n",
    "    assert root_path.is_dir()\n",
    "    assert len(list(root_path.glob(\"**/*\"))) >= 600\n",
    "\n",
    "    # use our dataset and defined transformations\n",
    "    dataset = DolphinsInstanceSegmentationDataset(\n",
    "        dataset_root, get_transform(train=True)\n",
    "    )\n",
    "    dataset_test = DolphinsInstanceSegmentationDataset(\n",
    "        dataset_root, get_transform(train=False)\n",
    "    )\n",
    "\n",
    "    n_val = max(1, round(val_split * len(dataset)))\n",
    "\n",
    "    # split the dataset in train and test set\n",
    "    torch.manual_seed(1)\n",
    "    indices = torch.randperm(len(dataset)).tolist()\n",
    "    dataset = torch.utils.data.Subset(dataset, indices[:-n_val])\n",
    "    dataset_test = torch.utils.data.Subset(dataset_test, indices[-n_val:])\n",
    "\n",
    "    # define training and validation data loaders\n",
    "    data_loader = torch.utils.data.DataLoader(\n",
    "        dataset,\n",
    "        batch_size=batch_size,\n",
    "        shuffle=True,\n",
    "        num_workers=4,\n",
    "        collate_fn=utils.collate_fn,\n",
    "    )\n",
    "\n",
    "    data_loader_test = torch.utils.data.DataLoader(\n",
    "        dataset_test,\n",
    "        batch_size=batch_size,\n",
    "        shuffle=False,\n",
    "        num_workers=4,\n",
    "        collate_fn=utils.collate_fn,\n",
    "    )\n",
    "    \n",
    "    return data_loader, data_loader_test"
   ]
  },
  {
   "cell_type": "code",
   "execution_count": null,
   "metadata": {},
   "outputs": [
    {
     "data": {
      "text/plain": [
       "<torch.utils.data.dataloader.DataLoader at 0x7f8a491d6588>"
      ]
     },
     "execution_count": null,
     "metadata": {},
     "output_type": "execute_result"
    }
   ],
   "source": [
    "# hide\n",
    "\n",
    "train_ds, val_ds = _get_instance_segmentation_dataset()\n",
    "train_ds"
   ]
  },
  {
   "cell_type": "markdown",
   "metadata": {},
   "source": [
    "## Download and load dataset"
   ]
  },
  {
   "cell_type": "code",
   "execution_count": null,
   "metadata": {},
   "outputs": [],
   "source": [
    "# export\n",
    "\n",
    "\n",
    "def get_dataset(\n",
    "    name: str,\n",
    "    *,\n",
    "    get_transform: Callable[[bool], Callable] = (lambda train: None),\n",
    "    batch_size: int = 4,\n",
    "    val_split: float = 0.2,\n",
    "    num_workers: int = 4,\n",
    ") -> Tuple[\n",
    "    torch.utils.data.dataloader.DataLoader, torch.utils.data.dataloader.DataLoader\n",
    "]:\n",
    "    \"\"\"Get one of two datasets available. The parameter `name` can be one of 'segmentation' and 'classification'\"\"\"\n",
    "\n",
    "    assert name in [\n",
    "        \"segmentation\",\n",
    "        \"classification\",\n",
    "    ], f\"name should be either 'segmentation' or 'classification', but it is '{name}'.\"\n",
    "\n",
    "    if name == \"segmentation\":\n",
    "        return _get_instance_segmentation_dataset()\n",
    "    elif name == \"classification\":\n",
    "        raise NotImplementedError()"
   ]
  },
  {
   "cell_type": "markdown",
   "metadata": {},
   "source": [
    "This is how you download the dataset and create dataset loaders for torch:"
   ]
  },
  {
   "cell_type": "code",
   "execution_count": null,
   "metadata": {},
   "outputs": [
    {
     "data": {
      "text/plain": [
       "<torch.utils.data.dataloader.DataLoader at 0x7f8a49189a20>"
      ]
     },
     "execution_count": null,
     "metadata": {},
     "output_type": "execute_result"
    }
   ],
   "source": [
    "train_ds, val_ds = get_dataset(\"segmentation\")\n",
    "train_ds"
   ]
  },
  {
   "cell_type": "code",
   "execution_count": null,
   "metadata": {},
   "outputs": [],
   "source": []
  }
 ],
 "metadata": {
  "kernelspec": {
   "display_name": "Python 3",
   "language": "python",
   "name": "python3"
  }
 },
 "nbformat": 4,
 "nbformat_minor": 1
}
