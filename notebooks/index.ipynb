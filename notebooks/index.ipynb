{
 "cells": [
  {
   "cell_type": "markdown",
   "metadata": {},
   "source": [
    "# Dolphins recognition challenge\n",
    "\n",
    "> The challenge has two parts:\n",
    "> - instance segmentation of dolphins in the photo, and\n",
    "> - recognition of an individual dolphin from the photo. "
   ]
  },
  {
   "cell_type": "markdown",
   "metadata": {},
   "source": [
    "![\"Croatian AI League\"](https://raw.githubusercontent.com/cro-ai-league/dolphins-recognition-challenge/master/docs/images/AILeague_logo-800x452.png)"
   ]
  },
  {
   "cell_type": "markdown",
   "metadata": {},
   "source": [
    "## Tutorial\n",
    "\n",
    "The easiest way to start and sbmit your solution is to open the following tutorial on Colaboratory from Google: [![Open In Colab](https://colab.research.google.com/assets/colab-badge.svg)](https://colab.research.google.com/github/cro-ai-league/dolphins-recognition-challenge/blob/master/notebooks/00_tutorial/DolphinsTutorial.ipynb)"
   ]
  },
  {
   "cell_type": "markdown",
   "metadata": {},
   "source": [
    "## Leaderboard\n",
    "\n",
    "The leaderboard will be periodically updated to reflect new sumbissions.\n",
    "\n",
    "> Notice: The leaderboard is generated using validtion set and will most likely be different when evaluated at the end of the contest using test dataset due to overfitting."
   ]
  },
  {
   "cell_type": "code",
   "execution_count": null,
   "metadata": {},
   "outputs": [
    {
     "name": "stdout",
     "output_type": "stream",
     "text": [
      "    alias         date                          submitted_iou    calculated_iou\n",
      "--  ------------  --------------------------  ---------------  ----------------\n",
      " 1  prvi_pokušaj  2021-01-13 14:29:59.372504          0.44925          0.449246\n"
     ]
    }
   ],
   "source": [
    "#hide_input\n",
    "\n",
    "from dolphins_recognition_challenge.leaderboard import get_leaderboard\n",
    "from tabulate import tabulate\n",
    "\n",
    "leaderboard = get_leaderboard()\n",
    "\n",
    "print(tabulate(leaderboard, headers=leaderboard.columns))"
   ]
  },
  {
   "cell_type": "markdown",
   "metadata": {},
   "source": [
    "## Local install\n",
    "\n",
    "You can also work on your own personal computer or cloud by installing a PIP package and downloading the data directly using the following command:"
   ]
  },
  {
   "cell_type": "markdown",
   "metadata": {},
   "source": [
    "`pip install dolphins-recognition-challenge`"
   ]
  },
  {
   "cell_type": "markdown",
   "metadata": {},
   "source": [
    "### How to use\n",
    "\n",
    "The dataset is prepared for use with PyTorch, although it is easy to prepare it for other frameworks. To use it with PyTorch, install the PIP package above and import it as follows:"
   ]
  },
  {
   "cell_type": "code",
   "execution_count": null,
   "metadata": {},
   "outputs": [
    {
     "data": {
      "text/plain": [
       "torch.utils.data.dataloader.DataLoader"
      ]
     },
     "execution_count": null,
     "metadata": {},
     "output_type": "execute_result"
    }
   ],
   "source": [
    "from dolphins_recognition_challenge.datasets import get_dataset\n",
    "\n",
    "train_ds, val_ds = get_dataset(\"segmentation\")\n",
    "\n",
    "type(train_ds)"
   ]
  },
  {
   "cell_type": "markdown",
   "metadata": {},
   "source": [
    "## Sponsors\n",
    "\n",
    "Here they go...\n"
   ]
  },
  {
   "cell_type": "code",
   "execution_count": null,
   "metadata": {},
   "outputs": [],
   "source": []
  }
 ],
 "metadata": {
  "kernelspec": {
   "display_name": "Python 3",
   "language": "python",
   "name": "python3"
  }
 },
 "nbformat": 4,
 "nbformat_minor": 2
}
