{
 "cells": [
  {
   "cell_type": "code",
   "execution_count": null,
   "metadata": {},
   "outputs": [],
   "source": [
    "from pathlib import Path\n",
    "from typing import Tuple, Optional, Dict, List, Union, Callable, Iterable, Set"
   ]
  },
  {
   "cell_type": "code",
   "execution_count": null,
   "metadata": {},
   "outputs": [
    {
     "name": "stdout",
     "output_type": "stream",
     "text": [
      "Defaulting to user installation because normal site-packages is not writeable\n",
      "Requirement already satisfied: progressbar2 in /root/.local/lib/python3.6/site-packages (3.53.1)\n",
      "Requirement already satisfied: python-utils>=2.3.0 in /root/.local/lib/python3.6/site-packages (from progressbar2) (2.4.0)\n",
      "Requirement already satisfied: six in /usr/local/lib/python3.6/dist-packages (from progressbar2) (1.15.0)\n",
      "\u001b[33mWARNING: You are using pip version 20.2.3; however, version 20.3.3 is available.\n",
      "You should consider upgrading via the '/usr/bin/python3 -m pip install --upgrade pip' command.\u001b[0m\n"
     ]
    }
   ],
   "source": [
    "!pip install progressbar2"
   ]
  },
  {
   "cell_type": "code",
   "execution_count": null,
   "metadata": {},
   "outputs": [],
   "source": [
    "from fastcore.script import *\n",
    "import numpy as np\n",
    "from shutil import copy\n",
    "import os\n",
    "import random\n",
    "import time\n",
    "import progressbar\n",
    "from progressbar import FormatLabel"
   ]
  },
  {
   "cell_type": "code",
   "execution_count": null,
   "metadata": {},
   "outputs": [],
   "source": [
    "def glob_suffixes(root_path: Path, suffixes: Union[List[str], str]) -> List[Path]:\n",
    "    if isinstance(suffixes, str):\n",
    "        suffixes = [suffixes]\n",
    "    return sorted([f for f in root_path.glob(\"**/*\") if file_suffix_in(f, suffixes)])"
   ]
  },
  {
   "cell_type": "code",
   "execution_count": null,
   "metadata": {},
   "outputs": [],
   "source": [
    "# for debugging\n",
    "\n",
    "from traceback_with_variables import activate_in_ipython_by_import\n",
    "from PIL import Image\n",
    "from tempfile import TemporaryDirectory\n",
    "from shutil import copytree"
   ]
  },
  {
   "cell_type": "code",
   "execution_count": null,
   "metadata": {},
   "outputs": [],
   "source": [
    "dropbox_path = Path(\"/tf/airt/notebooks/images\")"
   ]
  },
  {
   "cell_type": "code",
   "execution_count": null,
   "metadata": {},
   "outputs": [],
   "source": [
    "@call_parse\n",
    "def get_suffixes(\n",
    "    path: Param(\"input directory containing images\", Path),\n",
    "    verbose: Param(\"\", bool) = True,\n",
    ") -> Set[str]:\n",
    "    \"\"\"Returns all unique suffixes\"\"\"\n",
    "    path = Path(path)\n",
    "    p = path.glob(\"**/*\")\n",
    "    files = [x.suffix for x in p if x.is_file()]\n",
    "    if verbose:\n",
    "        print(list(set(x.lower() for x in files)))\n",
    "    return set(x.lower() for x in files)"
   ]
  },
  {
   "cell_type": "code",
   "execution_count": null,
   "metadata": {},
   "outputs": [
    {
     "name": "stdout",
     "output_type": "stream",
     "text": [
      "['.jpg', '.png']\n"
     ]
    }
   ],
   "source": [
    "actual = get_suffixes(dropbox_path)\n",
    "\n",
    "expected = set([\".jpg\", \".png\"])\n",
    "\n",
    "assert actual == expected, f\"{actual} != {expected}\""
   ]
  },
  {
   "cell_type": "code",
   "execution_count": null,
   "metadata": {},
   "outputs": [],
   "source": [
    "def get_rand_file_with_suff(\n",
    "    path: Path, suffix: str, case_insensitive: bool = True\n",
    ") -> Path:\n",
    "    \"\"\"Returns a random file that has a suffix equal to the variable suff\"\"\"\n",
    "    if case_insensitive:\n",
    "        p = [p for p in path.glob(f\"**/*\") if p.suffix.lower() == suffix.lower()]\n",
    "    else:\n",
    "        p = path.glob(f\"**/*{suffix}\")\n",
    "    files = [x for x in p if x.is_file()]\n",
    "    return random.choice(files)"
   ]
  },
  {
   "cell_type": "code",
   "execution_count": null,
   "metadata": {},
   "outputs": [
    {
     "data": {
      "text/plain": [
       "Path('/tf/airt/notebooks/images/Iou_example1.jpg')"
      ]
     },
     "metadata": {},
     "output_type": "display_data"
    }
   ],
   "source": [
    "actual = get_rand_file_with_suff(dropbox_path, \".JpG\")\n",
    "display(actual)\n",
    "\n",
    "assert isinstance(actual, Path)\n",
    "assert actual.exists()\n",
    "assert actual.is_file()\n",
    "assert actual.suffix.lower() == \".jpg\""
   ]
  },
  {
   "cell_type": "code",
   "execution_count": null,
   "metadata": {},
   "outputs": [],
   "source": [
    "def get_one_image_for_each_suffix(path: Path) -> List[Path]:\n",
    "    \"\"\"Returns one random image for each suffix\"\"\"\n",
    "    return [\n",
    "        get_rand_file_with_suff(path, suffix)\n",
    "        for suffix in get_suffixes(path, verbose=False)\n",
    "    ]"
   ]
  },
  {
   "cell_type": "code",
   "execution_count": null,
   "metadata": {},
   "outputs": [
    {
     "data": {
      "text/plain": [
       "[Path('/tf/airt/notebooks/images/Iou_example1.jpg'),\n",
       " Path('/tf/airt/notebooks/images/AILeague_logo-800x452.png')]"
      ]
     },
     "metadata": {},
     "output_type": "display_data"
    }
   ],
   "source": [
    "display(get_one_image_for_each_suffix(dropbox_path))\n",
    "assert len(get_suffixes(dropbox_path, verbose=False)) == len(\n",
    "    get_one_image_for_each_suffix(dropbox_path)\n",
    ")"
   ]
  },
  {
   "cell_type": "code",
   "execution_count": null,
   "metadata": {},
   "outputs": [],
   "source": [
    "def create_sample_test_dir_if_needed(\n",
    "    dst: Path = Path(\"../data/testing/raw\"),\n",
    ") -> List[Path]:\n",
    "    \"\"\"Creates samples for a test set\"\"\"\n",
    "    dst.mkdir(parents=True, exist_ok=True)\n",
    "    if len(list(dst.glob(\"*\"))) == 0:\n",
    "        files = get_one_image_for_each_suffix(dropbox_path)\n",
    "        for f in files:\n",
    "            copy(f, dst)\n",
    "    return list(dst.glob(\"*\"))"
   ]
  },
  {
   "cell_type": "code",
   "execution_count": null,
   "metadata": {},
   "outputs": [
    {
     "data": {
      "text/plain": [
       "[Path('../data/testing/raw/AILeague_logo-200x113.png'),\n",
       " Path('../data/testing/raw/Iou_example1.jpg')]"
      ]
     },
     "execution_count": null,
     "metadata": {},
     "output_type": "execute_result"
    }
   ],
   "source": [
    "expected_path = Path(\"../data/testing/raw\")\n",
    "actual = create_sample_test_dir_if_needed()\n",
    "assert expected_path.exists()\n",
    "assert len(actual) > 0\n",
    "actual"
   ]
  },
  {
   "cell_type": "code",
   "execution_count": null,
   "metadata": {},
   "outputs": [],
   "source": [
    "def convert_image_to_jpg_darktable(\n",
    "    img_path: Path,\n",
    "    *,\n",
    "    suffixes_to_delete: List[str] = [\".mov\", \".mp4\"],\n",
    "    remove_src: bool = False,\n",
    "    update_msg_fn: Callable[[str], None] = print,\n",
    ") -> str:\n",
    "    update_msg_fn(f\"Processing {img_path}\")\n",
    "    \"\"\"Converts image whose suffix is not in the skip_suffixes list, if remove_src = True then deletes the input image\"\"\"\n",
    "    if img_path.suffix.lower() != \".jpg\":\n",
    "        dst = img_path.parent / (img_path.stem + \".jpg\")\n",
    "        if img_path.suffix.lower() in suffixes_to_delete:\n",
    "            if remove_src:\n",
    "                retmsg = f\"Removed {img_path} because {img_path.suffix.lower()} is in {suffixes_to_delete}\"\n",
    "                img_path.unlink()\n",
    "            else:\n",
    "                retmsg = f\"Not removing {img_path} although {img_path.suffix.lower()} is in {suffixes_to_delete}\"\n",
    "            return None, retmsg\n",
    "        if dst.exists() and remove_src:\n",
    "            img_path.unlink()\n",
    "            retmsg = f\"Removed {img_path} because {dst} exists.\"\n",
    "            return dst, retmsg\n",
    "        system_error = os.system(f\"darktable-cli {img_path} {dst}\")\n",
    "        if system_error != 0:\n",
    "            retmsg = f\"Converted error {system_error}, image path {img_path}.\"\n",
    "            return img_path, retmsg\n",
    "        if remove_src:\n",
    "            img_path.unlink()\n",
    "        retmsg = f\"Converted {img_path} to {dst}.\"\n",
    "        return dst, retmsg\n",
    "    else:\n",
    "        retmsg = f\"Skiped path {img_path} because it is already a JPEG.\"\n",
    "        return img_path, retmsg"
   ]
  },
  {
   "cell_type": "code",
   "execution_count": null,
   "metadata": {},
   "outputs": [
    {
     "name": "stdout",
     "output_type": "stream",
     "text": [
      "Processing /tmp/tmpcs4m7toh/raw/AILeague_logo-200x113_copy.png\n",
      "Converted error 32512, image path /tmp/tmpcs4m7toh/raw/AILeague_logo-200x113_copy.png.\n",
      "Processing /tmp/tmpcs4m7toh/raw/AILeague_logo-200x113.png\n",
      "Converted error 32512, image path /tmp/tmpcs4m7toh/raw/AILeague_logo-200x113.png.\n",
      "Processing /tmp/tmpcs4m7toh/raw/Iou_example1.jpg\n",
      "Skiped path /tmp/tmpcs4m7toh/raw/Iou_example1.jpg because it is already a JPEG.\n"
     ]
    },
    {
     "data": {
      "text/plain": [
       "[Path('/tmp/tmpcs4m7toh/raw/AILeague_logo-200x113.png'),\n",
       " Path('/tmp/tmpcs4m7toh/raw/AILeague_logo-200x113_copy.png'),\n",
       " Path('/tmp/tmpcs4m7toh/raw/Iou_example1.jpg')]"
      ]
     },
     "metadata": {},
     "output_type": "display_data"
    },
    {
     "data": {
      "text/plain": [
       "[Path('/tmp/tmpcs4m7toh/raw/AILeague_logo-200x113.png'),\n",
       " Path('/tmp/tmpcs4m7toh/raw/AILeague_logo-200x113_copy.png'),\n",
       " Path('/tmp/tmpcs4m7toh/raw/Iou_example1.jpg')]"
      ]
     },
     "metadata": {},
     "output_type": "display_data"
    },
    {
     "name": "stdout",
     "output_type": "stream",
     "text": [
      "/tmp/tmpcs4m7toh/raw/Iou_example1.jpg\n"
     ]
    },
    {
     "data": {
      "image/png": "[encoded data removed]",
      "text/plain": [
       "<PIL.Image.Image image mode=RGB size=300x200 at 0x7FF32E0D4208>"
      ]
     },
     "metadata": {},
     "output_type": "display_data"
    }
   ],
   "source": [
    "with TemporaryDirectory() as src_dir:\n",
    "    src_dir = Path(src_dir) / \"raw\"\n",
    "    copytree(\"../data/testing/raw/\", src_dir)\n",
    "    tif_path = [x for x in src_dir.glob(\"*.png\")][0]\n",
    "    new_tif = tif_path.parent / (tif_path.stem + \"_copy\" + tif_path.suffix)\n",
    "    copy(tif_path, new_tif)\n",
    "    before_files = [x for x in src_dir.glob(\"*\")]\n",
    "    jpg_before = [x for x in before_files if x.suffix.lower() == \".jpg\"]\n",
    "    for image_path in src_dir.glob(\"*\"):\n",
    "        dst, msg = convert_image_to_jpg_darktable(image_path, remove_src=True)\n",
    "        assert not dst or dst.exists()\n",
    "        print(msg)\n",
    "    after_files = [x for x in src_dir.glob(\"*\")]\n",
    "    assert len(before_files) == len(after_files) \n",
    "    display(sorted(before_files))\n",
    "    display(sorted(after_files))\n",
    "    jpg_after = [x for x in after_files if x.suffix.lower() == \".jpg\"]\n",
    "    assert len(jpg_after) == len(jpg_before) \n",
    "\n",
    "    for img_after in jpg_after:\n",
    "        if img_after.suffix.lower() == \".jpg\":\n",
    "            print(img_after)\n",
    "            display(Image.open(img_after).resize((300, 200)))"
   ]
  },
  {
   "cell_type": "code",
   "execution_count": null,
   "metadata": {},
   "outputs": [],
   "source": [
    "@call_parse\n",
    "def convert_files_with_darktable(\n",
    "    root_path: Param(\"input directory containing images to convert\", Path),\n",
    "    remove_src: Param(\"input True if you want to delete the images \", bool) = True,\n",
    "):\n",
    "    \"\"\"Calls the convert_image_to_jpg() function on all images in the path\"\"\"\n",
    "    root_path = Path(root_path)\n",
    "    widgets = [\n",
    "        FormatLabel(\"\"),\n",
    "        \" [\",\n",
    "        progressbar.Timer(),\n",
    "        \"] \",\n",
    "        progressbar.Bar(),\n",
    "        progressbar.Percentage(\"%(percentage)5.2f%%\"),\n",
    "        \" (\",\n",
    "        progressbar.AdaptiveETA(),\n",
    "        \") \",\n",
    "    ]\n",
    "    files = sorted([x for x in root_path.glob(\"**/*\") if x.is_file()])\n",
    "    n_files = len(files)\n",
    "\n",
    "    def update_msg(msg):\n",
    "        widgets[0] = FormatLabel(f\"[{i:4d}/{n_files}] {msg}\")\n",
    "\n",
    "    log = []\n",
    "    with progressbar.ProgressBar(max_value=len(files), widgets=widgets) as bar:\n",
    "        for i, src in enumerate(files):\n",
    "            _, msg = convert_image_to_jpg_darktable(\n",
    "                src, remove_src=remove_src, update_msg_fn=update_msg\n",
    "            )\n",
    "            log.append(msg)\n",
    "            bar.update(i)\n",
    "    print(f\"Conversion completed {len(files)}/{len(files)}\")\n",
    "\n",
    "    for msg in log:\n",
    "        print(msg)"
   ]
  },
  {
   "cell_type": "code",
   "execution_count": null,
   "metadata": {},
   "outputs": [
    {
     "name": "stderr",
     "output_type": "stream",
     "text": [
      "[   9/10] Processing /tmp/tmplhh89n8v/raw/tri/cetiri/Iou_example1.jpg [Elapsed Time: 0:00:00] ||100.00% (Time:  0:00:00) \n"
     ]
    },
    {
     "name": "stdout",
     "output_type": "stream",
     "text": [
      "Conversion completed 10/10\n",
      "Converted error 32512, image path /tmp/tmplhh89n8v/raw/AILeague_logo-200x113.png.\n",
      "Skiped path /tmp/tmplhh89n8v/raw/Iou_example1.jpg because it is already a JPEG.\n",
      "Converted error 32512, image path /tmp/tmplhh89n8v/raw/jedan/AILeague_logo-200x113.png.\n",
      "Skiped path /tmp/tmplhh89n8v/raw/jedan/Iou_example1.jpg because it is already a JPEG.\n",
      "Converted error 32512, image path /tmp/tmplhh89n8v/raw/jedan/dva/AILeague_logo-200x113.png.\n",
      "Skiped path /tmp/tmplhh89n8v/raw/jedan/dva/Iou_example1.jpg because it is already a JPEG.\n",
      "Converted error 32512, image path /tmp/tmplhh89n8v/raw/tri/AILeague_logo-200x113.png.\n",
      "Skiped path /tmp/tmplhh89n8v/raw/tri/Iou_example1.jpg because it is already a JPEG.\n",
      "Converted error 32512, image path /tmp/tmplhh89n8v/raw/tri/cetiri/AILeague_logo-200x113.png.\n",
      "Skiped path /tmp/tmplhh89n8v/raw/tri/cetiri/Iou_example1.jpg because it is already a JPEG.\n"
     ]
    }
   ],
   "source": [
    "with TemporaryDirectory() as src_dir:\n",
    "    src_dir = Path(src_dir) / \"raw\"\n",
    "    copytree(\"../data/testing/raw/\", src_dir)\n",
    "    copytree(\"../data/testing/raw/\", src_dir / \"jedan\")\n",
    "    copytree(\"../data/testing/raw/\", src_dir / \"jedan\" / \"dva\")\n",
    "    copytree(\"../data/testing/raw/\", src_dir / \"tri\")\n",
    "    copytree(\"../data/testing/raw/\", src_dir / \"tri\" / \"cetiri\")\n",
    "    files_before = list(src_dir.glob(\"**/*\"))\n",
    "\n",
    "    # the main thing\n",
    "    convert_files_with_darktable(src_dir, remove_src=True)\n",
    "\n",
    "    files_after = list(src_dir.glob(\"**/*\"))\n",
    "\n",
    "    assert (\n",
    "        len(files_before) == len(files_after)\n",
    "    ), f\"len({files_before}) != len({files_after})\""
   ]
  },
  {
   "cell_type": "code",
   "execution_count": null,
   "metadata": {},
   "outputs": [],
   "source": []
  }
 ],
 "metadata": {
  "kernelspec": {
   "display_name": "Python 3",
   "language": "python",
   "name": "python3"
  }
 },
 "nbformat": 4,
 "nbformat_minor": 2
}
