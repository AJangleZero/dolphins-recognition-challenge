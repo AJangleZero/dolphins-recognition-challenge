{
 "cells": [
  {
   "cell_type": "code",
   "execution_count": null,
   "metadata": {},
   "outputs": [],
   "source": [
    "from pathlib import Path\n",
    "from typing import Tuple, Optional, Dict, List, Union, Callable, Iterable, Set"
   ]
  },
  {
   "cell_type": "code",
   "execution_count": null,
   "metadata": {},
   "outputs": [
    {
     "name": "stdout",
     "output_type": "stream",
     "text": [
      "Defaulting to user installation because normal site-packages is not writeable\n",
      "Requirement already satisfied: progressbar2 in /root/.local/lib/python3.6/site-packages (3.53.1)\n",
      "Requirement already satisfied: python-utils>=2.3.0 in /root/.local/lib/python3.6/site-packages (from progressbar2) (2.4.0)\n",
      "Requirement already satisfied: six in /usr/local/lib/python3.6/dist-packages (from progressbar2) (1.15.0)\n",
      "\u001b[33mWARNING: You are using pip version 20.2.3; however, version 20.3.3 is available.\n",
      "You should consider upgrading via the '/usr/bin/python3 -m pip install --upgrade pip' command.\u001b[0m\n"
     ]
    }
   ],
   "source": [
    "!pip install progressbar2"
   ]
  },
  {
   "cell_type": "code",
   "execution_count": null,
   "metadata": {},
   "outputs": [],
   "source": [
    "from fastcore.script import *\n",
    "import numpy as np\n",
    "from shutil import copy\n",
    "import os\n",
    "import random\n",
    "import time\n",
    "import progressbar\n",
    "from progressbar import FormatLabel"
   ]
  },
  {
   "cell_type": "code",
   "execution_count": null,
   "metadata": {},
   "outputs": [],
   "source": [
    "def glob_suffixes(root_path: Path, suffixes: Union[List[str], str]) -> List[Path]:\n",
    "    if isinstance(suffixes, str):\n",
    "        suffixes = [suffixes]\n",
    "    return sorted([f for f in root_path.glob(\"**/*\") if file_suffix_in(f, suffixes)])"
   ]
  },
  {
   "cell_type": "code",
   "execution_count": null,
   "metadata": {},
   "outputs": [],
   "source": [
    "# for debugging\n",
    "\n",
    "from traceback_with_variables import activate_in_ipython_by_import\n",
    "from PIL import Image\n",
    "from tempfile import TemporaryDirectory\n",
    "from shutil import copytree"
   ]
  },
  {
   "cell_type": "code",
   "execution_count": null,
   "metadata": {},
   "outputs": [],
   "source": [
    "dropbox_path = Path(\"/tf/airt/data/testing/raw\")"
   ]
  },
  {
   "cell_type": "code",
   "execution_count": null,
   "metadata": {},
   "outputs": [],
   "source": [
    "@call_parse\n",
    "def get_suffixes(\n",
    "    path: Param(\"input directory containing images\", Path),\n",
    "    verbose: Param(\"\", bool) = True,\n",
    ") -> Set[str]:\n",
    "    \"\"\"Returns all unique suffixes\"\"\"\n",
    "    path = Path(path)\n",
    "    p = path.glob(\"**/*\")\n",
    "    files = [x.suffix for x in p if x.is_file()]\n",
    "    if verbose:\n",
    "        print(list(set(x.lower() for x in files)))\n",
    "    return set(x.lower() for x in files)"
   ]
  },
  {
   "cell_type": "code",
   "execution_count": null,
   "metadata": {},
   "outputs": [
    {
     "name": "stdout",
     "output_type": "stream",
     "text": [
      "['.jpg', '.cr2', '.xmp', '.info', '.png', '.mov', '.tif']\n"
     ]
    }
   ],
   "source": [
    "actual = get_suffixes(dropbox_path)\n",
    "\n",
    "expected = set(['.jpg', '.xmp', '.png', '.tif', '.cr2', '.mov', '.info'])\n",
    "\n",
    "assert actual == expected, f\"{actual} != {expected}\""
   ]
  },
  {
   "cell_type": "code",
   "execution_count": null,
   "metadata": {},
   "outputs": [],
   "source": [
    "def get_rand_file_with_suff(\n",
    "    path: Path, suffix: str, case_insensitive: bool = True\n",
    ") -> Path:\n",
    "    \"\"\"Returns a random file that has a suffix equal to the variable suff\"\"\"\n",
    "    if case_insensitive:\n",
    "        p = [p for p in path.glob(f\"**/*\") if p.suffix.lower() == suffix.lower()]\n",
    "    else:\n",
    "        p = path.glob(f\"**/*{suffix}\")\n",
    "    files = [x for x in p if x.is_file()]\n",
    "    return random.choice(files)"
   ]
  },
  {
   "cell_type": "code",
   "execution_count": null,
   "metadata": {},
   "outputs": [
    {
     "data": {
      "text/plain": [
       "Path('/tf/airt/data/testing/raw/Grga_18062007_1_1_001-1.jpg')"
      ]
     },
     "metadata": {},
     "output_type": "display_data"
    }
   ],
   "source": [
    "actual = get_rand_file_with_suff(dropbox_path, \".JpG\")\n",
    "display(actual)\n",
    "\n",
    "assert isinstance(actual, Path)\n",
    "assert actual.exists()\n",
    "assert actual.is_file()\n",
    "assert actual.suffix.lower() == \".jpg\""
   ]
  },
  {
   "cell_type": "code",
   "execution_count": null,
   "metadata": {},
   "outputs": [],
   "source": [
    "def get_one_image_for_each_suffix(path: Path) -> List[Path]:\n",
    "    \"\"\"Returns one random image for each suffix\"\"\"\n",
    "    return [\n",
    "        get_rand_file_with_suff(path, suffix)\n",
    "        for suffix in get_suffixes(path, verbose=False)\n",
    "    ]"
   ]
  },
  {
   "cell_type": "code",
   "execution_count": null,
   "metadata": {},
   "outputs": [
    {
     "data": {
      "text/plain": [
       "[Path('/tf/airt/data/testing/raw/070728_10_1_0012.JPG'),\n",
       " Path('/tf/airt/data/testing/raw/140830_47_1_1113.CR2'),\n",
       " Path('/tf/airt/data/testing/raw/070828_20_1_0040.JPG.xmp'),\n",
       " Path('/tf/airt/data/testing/raw/ZbThumbnail.info'),\n",
       " Path('/tf/airt/data/testing/raw/AILeague_logo-200x113.png'),\n",
       " Path('/tf/airt/data/testing/raw/MVI_3536.MOV'),\n",
       " Path('/tf/airt/data/testing/raw/Grga_18062007_1_1_001-1.tif')]"
      ]
     },
     "metadata": {},
     "output_type": "display_data"
    }
   ],
   "source": [
    "display(get_one_image_for_each_suffix(dropbox_path))\n",
    "assert len(get_suffixes(dropbox_path, verbose=False)) == len(\n",
    "    get_one_image_for_each_suffix(dropbox_path)\n",
    ")"
   ]
  },
  {
   "cell_type": "code",
   "execution_count": null,
   "metadata": {},
   "outputs": [],
   "source": [
    "def create_sample_test_dir_if_needed(\n",
    "    dst: Path = Path(\"../data/testing/raw\"),\n",
    ") -> List[Path]:\n",
    "    \"\"\"Creates samples for a test set\"\"\"\n",
    "    dst.mkdir(parents=True, exist_ok=True)\n",
    "    if len(list(dst.glob(\"*\"))) == 0:\n",
    "        files = get_one_image_for_each_suffix(dropbox_path)\n",
    "        for f in files:\n",
    "            copy(f, dst)\n",
    "    return list(dst.glob(\"*\"))"
   ]
  },
  {
   "cell_type": "code",
   "execution_count": null,
   "metadata": {},
   "outputs": [
    {
     "data": {
      "text/plain": [
       "[Path('../data/testing/raw/AILeague_logo-200x113.png'),\n",
       " Path('../data/testing/raw/Iou_example1.jpg')]"
      ]
     },
     "execution_count": null,
     "metadata": {},
     "output_type": "execute_result"
    }
   ],
   "source": [
    "expected_path = Path(\"../data/testing/raw\")\n",
    "actual = create_sample_test_dir_if_needed()\n",
    "assert expected_path.exists()\n",
    "assert len(actual) > 0\n",
    "actual"
   ]
  },
  {
   "cell_type": "code",
   "execution_count": null,
   "metadata": {},
   "outputs": [],
   "source": [
    "def convert_image_to_jpg_darktable(\n",
    "    img_path: Path,\n",
    "    *,\n",
    "    suffixes_to_delete: List[str] = [\".mov\", \".mp4\"],\n",
    "    remove_src: bool = False,\n",
    "    update_msg_fn: Callable[[str], None] = print,\n",
    ") -> str:\n",
    "    update_msg_fn(f\"Processing {img_path}\")\n",
    "    \"\"\"Converts image whose suffix is not in the skip_suffixes list, if remove_src = True then deletes the input image\"\"\"\n",
    "    if img_path.suffix.lower() != \".jpg\":\n",
    "        dst = img_path.parent / (img_path.stem + \".jpg\")\n",
    "        if img_path.suffix.lower() in suffixes_to_delete:\n",
    "            if remove_src:\n",
    "                retmsg = f\"Removed {img_path} because {img_path.suffix.lower()} is in {suffixes_to_delete}\"\n",
    "                img_path.unlink()\n",
    "            else:\n",
    "                retmsg = f\"Not removing {img_path} although {img_path.suffix.lower()} is in {suffixes_to_delete}\"\n",
    "            return None, retmsg\n",
    "        if dst.exists() and remove_src:\n",
    "            img_path.unlink()\n",
    "            retmsg = f\"Removed {img_path} because {dst} exists.\"\n",
    "            return dst, retmsg\n",
    "        system_error = os.system(f\"darktable-cli {img_path} {dst}\")\n",
    "        if system_error != 0:\n",
    "            retmsg = f\"Converted error {system_error}, image path {img_path}.\"\n",
    "            return img_path, retmsg\n",
    "        if remove_src:\n",
    "            img_path.unlink()\n",
    "        retmsg = f\"Converted {img_path} to {dst}.\"\n",
    "        return dst, retmsg\n",
    "    else:\n",
    "        retmsg = f\"Skiped path {img_path} because it is already a JPEG.\"\n",
    "        return img_path, retmsg"
   ]
  },
  {
   "cell_type": "code",
   "execution_count": null,
   "metadata": {},
   "outputs": [
    {
     "name": "stderr",
     "output_type": "stream",
     "text": [
      "\u001b[36mTraceback with variables (most recent call last):\u001b[0m\n",
      "\u001b[36m  File \"\u001b[0m\u001b[36;1m<ipython-input-16-de760ce8d1c2>\u001b[0m\u001b[36m\", line \u001b[0m\u001b[36;1m4\u001b[0m\u001b[36m, in \u001b[0m\u001b[36;1m<module>\u001b[0m\n",
      "\u001b[36m    \u001b[0m\u001b[35mtif_path = [x for x in src_dir.glob(\"*.tif\")][0]\u001b[0m\n",
      "\u001b[36m      \u001b[0m\u001b[32;1m__name__\u001b[0m\u001b[36m = \u001b[0m'__main__'\u001b[0m\n",
      "\u001b[36m      \u001b[0m\u001b[32;1m__doc__\u001b[0m\u001b[36m = \u001b[0m'Automatically created module for IPython interactive environment'\u001b[0m\n",
      "\u001b[36m      \u001b[0m\u001b[32;1m__package__\u001b[0m\u001b[36m = \u001b[0mNone\u001b[0m\n",
      "\u001b[36m      \u001b[0m\u001b[32;1m__loader__\u001b[0m\u001b[36m = \u001b[0mNone\u001b[0m\n",
      "\u001b[36m      \u001b[0m\u001b[32;1m__spec__\u001b[0m\u001b[36m = \u001b[0mNone\u001b[0m\n",
      "\u001b[36m      \u001b[0m\u001b[32;1m__builtin__\u001b[0m\u001b[36m = \u001b[0m<module 'builtins' (built-in)>\u001b[0m\n",
      "\u001b[36m      \u001b[0m\u001b[32;1m__builtins__\u001b[0m\u001b[36m = \u001b[0m<module 'builtins' (built-in)>\u001b[0m\n",
      "\u001b[36m      \u001b[0m\u001b[32;1m_ih\u001b[0m\u001b[36m = \u001b[0m['', 'from pathlib import Path\\nfrom typing import Tuple, Optional, Dict, List, Union, Callable, Iterable, Set', \"get_ipython().system('pip install progressbar2')\", 'from fastcore.script import *\\nimport numpy as np\\nfrom shutil import copy\\nimport os\\nimport random\\nimport time\\nimport progressbar\\nfrom progressbar import FormatLabel', 'def glob_suffixes(root_path: Path, suffixes: Union[List[str], str]) -> List[Path]:\\n    if isinstance(suffixes, str):\\n        suffixes = [suffixes]\\n    return sorted([f for f in root_path.glob(\"**/*\") if file_suffix_in(f, suffixes)])', '# for debugging\\n\\nfrom traceback_with_variables import activate_in_ipython_by_import\\nfrom PIL import Image\\nfrom tempfile import TemporaryDirectory\\nfrom shutil import copytree', 'dropbox_path = Path(\"/tf/airt/data/testing/raw\")', '@call_parse\\ndef get_suffixes(\\n    path: Param(\"input directory containing images\", Path),\\n    verbose: Param(\"\", bool) = True,\\n) -> Set[str]:\\n    \"\"\"Returns all unique suffixes\"\"\"\\n ...\u001b[0m\n",
      "\u001b[36m      \u001b[0m\u001b[32;1m_oh\u001b[0m\u001b[36m = \u001b[0m{14: [Path('../data/testing/raw/AILeague_logo-200x113.png'), Path('../data/testing/raw/Iou_example1.jpg')]}\u001b[0m\n",
      "\u001b[36m      \u001b[0m\u001b[32;1m_dh\u001b[0m\u001b[36m = \u001b[0m['/tf/airt/notebooks/utils']\u001b[0m\n",
      "\u001b[36m      \u001b[0m\u001b[32;1mIn\u001b[0m\u001b[36m = \u001b[0m['', 'from pathlib import Path\\nfrom typing import Tuple, Optional, Dict, List, Union, Callable, Iterable, Set', \"get_ipython().system('pip install progressbar2')\", 'from fastcore.script import *\\nimport numpy as np\\nfrom shutil import copy\\nimport os\\nimport random\\nimport time\\nimport progressbar\\nfrom progressbar import FormatLabel', 'def glob_suffixes(root_path: Path, suffixes: Union[List[str], str]) -> List[Path]:\\n    if isinstance(suffixes, str):\\n        suffixes = [suffixes]\\n    return sorted([f for f in root_path.glob(\"**/*\") if file_suffix_in(f, suffixes)])', '# for debugging\\n\\nfrom traceback_with_variables import activate_in_ipython_by_import\\nfrom PIL import Image\\nfrom tempfile import TemporaryDirectory\\nfrom shutil import copytree', 'dropbox_path = Path(\"/tf/airt/data/testing/raw\")', '@call_parse\\ndef get_suffixes(\\n    path: Param(\"input directory containing images\", Path),\\n    verbose: Param(\"\", bool) = True,\\n) -> Set[str]:\\n    \"\"\"Returns all unique suffixes\"\"\"\\n ...\u001b[0m\n",
      "\u001b[36m      \u001b[0m\u001b[32;1mOut\u001b[0m\u001b[36m = \u001b[0m{14: [Path('../data/testing/raw/AILeague_logo-200x113.png'), Path('../data/testing/raw/Iou_example1.jpg')]}\u001b[0m\n",
      "\u001b[36m      \u001b[0m\u001b[32;1mget_ipython\u001b[0m\u001b[36m = \u001b[0m<bound method InteractiveShell.get_ipython of <ipykernel.zmqshell.ZMQInteractiveShell object at 0x7f628d2635f8>>\u001b[0m\n",
      "\u001b[36m      \u001b[0m\u001b[32;1mexit\u001b[0m\u001b[36m = \u001b[0m<IPython.core.autocall.ZMQExitAutocall object at 0x7f6289fa65c0>\u001b[0m\n",
      "\u001b[36m      \u001b[0m\u001b[32;1mquit\u001b[0m\u001b[36m = \u001b[0m<IPython.core.autocall.ZMQExitAutocall object at 0x7f6289fa65c0>\u001b[0m\n",
      "\u001b[36m      \u001b[0m\u001b[32;1m_\u001b[0m\u001b[36m = \u001b[0m[Path('../data/testing/raw/AILeague_logo-200x113.png'), Path('../data/testing/raw/Iou_example1.jpg')]\u001b[0m\n",
      "\u001b[36m      \u001b[0m\u001b[32;1m__\u001b[0m\u001b[36m = \u001b[0m''\u001b[0m\n",
      "\u001b[36m      \u001b[0m\u001b[32;1m___\u001b[0m\u001b[36m = \u001b[0m''\u001b[0m\n",
      "\u001b[36m      \u001b[0m\u001b[32;1mjson\u001b[0m\u001b[36m = \u001b[0m<module 'json' from '/usr/lib/python3.6/json/__init__.py'>\u001b[0m\n",
      "\u001b[36m      \u001b[0m\u001b[32;1mblack_reformat\u001b[0m\u001b[36m = \u001b[0m<function black_reformat at 0x7f62896966a8>\u001b[0m\n",
      "\u001b[36m      \u001b[0m\u001b[32;1m_i\u001b[0m\u001b[36m = \u001b[0m'def convert_image_to_jpg_darktable(\\n    img_path: Path,\\n    *,\\n    suffixes_to_delete: List[str] = [\".mov\", \".mp4\"],\\n    remove_src: bool = False,\\n    update_msg_fn: Callable[[str], None] = print,\\n) -> str:\\n    update_msg_fn(f\"Processing {img_path}\")\\n    \"\"\"Converts image whose suffix is not in the skip_suffixes list, if remove_src = True then deletes the input image\"\"\"\\n    if img_path.suffix.lower() != \".jpg\":\\n        dst = img_path.parent / (img_path.stem + \".jpg\")\\n        if img_path.suffix.lower() in suffixes_to_delete:\\n            if remove_src:\\n                retmsg = f\"Removed {img_path} because {img_path.suffix.lower()} is in {suffixes_to_delete}\"\\n                img_path.unlink()\\n            else:\\n                retmsg = f\"Not removing {img_path} although {img_path.suffix.lower()} is in {suffixes_to_delete}\"\\n            return None, retmsg\\n        if dst.exists() and remove_src:\\n            img_path.unlink()\\n            retmsg = f\"Removed {img_path} beca...\u001b[0m\n",
      "\u001b[36m      \u001b[0m\u001b[32;1m_ii\u001b[0m\u001b[36m = \u001b[0m'expected_path = Path(\"../data/testing/raw\")\\nactual = create_sample_test_dir_if_needed()\\nassert expected_path.exists()\\nassert len(actual) > 0\\nactual'\u001b[0m\n",
      "\u001b[36m      \u001b[0m\u001b[32;1m_iii\u001b[0m\u001b[36m = \u001b[0m'def create_sample_test_dir_if_needed(\\n    dst: Path = Path(\"../data/testing/raw\"),\\n) -> List[Path]:\\n    \"\"\"Creates samples for a test set\"\"\"\\n    dst.mkdir(parents=True, exist_ok=True)\\n    if len(list(dst.glob(\"*\"))) == 0:\\n        files = get_one_image_for_each_suffix(dropbox_path)\\n        for f in files:\\n            copy(f, dst)\\n    return list(dst.glob(\"*\"))'\u001b[0m\n",
      "\u001b[36m      \u001b[0m\u001b[32;1m_i1\u001b[0m\u001b[36m = \u001b[0m'from pathlib import Path\\nfrom typing import Tuple, Optional, Dict, List, Union, Callable, Iterable, Set'\u001b[0m\n",
      "\u001b[36m      \u001b[0m\u001b[32;1mPath\u001b[0m\u001b[36m = \u001b[0m<class 'pathlib.Path'>\u001b[0m\n",
      "\u001b[36m      \u001b[0m\u001b[32;1mTuple\u001b[0m\u001b[36m = \u001b[0mtyping.Tuple\u001b[0m\n",
      "\u001b[36m      \u001b[0m\u001b[32;1mOptional\u001b[0m\u001b[36m = \u001b[0mtyping.Optional\u001b[0m\n",
      "\u001b[36m      \u001b[0m\u001b[32;1mDict\u001b[0m\u001b[36m = \u001b[0mtyping.Dict\u001b[0m\n",
      "\u001b[36m      \u001b[0m\u001b[32;1mList\u001b[0m\u001b[36m = \u001b[0mtyping.List\u001b[0m\n",
      "\u001b[36m      \u001b[0m\u001b[32;1mUnion\u001b[0m\u001b[36m = \u001b[0mtyping.Union\u001b[0m\n",
      "\u001b[36m      \u001b[0m\u001b[32;1mCallable\u001b[0m\u001b[36m = \u001b[0mtyping.Callable\u001b[0m\n",
      "\u001b[36m      \u001b[0m\u001b[32;1mIterable\u001b[0m\u001b[36m = \u001b[0mtyping.Iterable\u001b[0m\n",
      "\u001b[36m      \u001b[0m\u001b[32;1mSet\u001b[0m\u001b[36m = \u001b[0mtyping.Set\u001b[0m\n",
      "\u001b[36m      \u001b[0m\u001b[32;1m_i2\u001b[0m\u001b[36m = \u001b[0m'!pip install progressbar2'\u001b[0m\n",
      "\u001b[36m      \u001b[0m\u001b[32;1m_exit_code\u001b[0m\u001b[36m = \u001b[0m0\u001b[0m\n",
      "\u001b[36m      \u001b[0m\u001b[32;1m_i3\u001b[0m\u001b[36m = \u001b[0m'from fastcore.script import *\\nimport numpy as np\\nfrom shutil import copy\\nimport os\\nimport random\\nimport time\\nimport progressbar\\nfrom progressbar import FormatLabel'\u001b[0m\n",
      "\u001b[36m      \u001b[0m\u001b[32;1mstore_true\u001b[0m\u001b[36m = \u001b[0m<function store_true at 0x7f6289696d90>\u001b[0m\n",
      "\u001b[36m      \u001b[0m\u001b[32;1mstore_false\u001b[0m\u001b[36m = \u001b[0m<function store_false at 0x7f6289013950>\u001b[0m\n",
      "\u001b[36m      \u001b[0m\u001b[32;1mbool_arg\u001b[0m\u001b[36m = \u001b[0m<function bool_arg at 0x7f6288f76d90>\u001b[0m\n",
      "\u001b[36m      \u001b[0m\u001b[32;1mclean_type_str\u001b[0m\u001b[36m = \u001b[0m<function clean_type_str at 0x7f6288f76e18>\u001b[0m\n",
      "\u001b[36m      \u001b[0m\u001b[32;1mParam\u001b[0m\u001b[36m = \u001b[0m<class 'fastcore.script.Param'>\u001b[0m\n",
      "\u001b[36m      \u001b[0m\u001b[32;1manno_parser\u001b[0m\u001b[36m = \u001b[0m<function anno_parser at 0x7f6288f76ea0>\u001b[0m\n",
      "\u001b[36m      \u001b[0m\u001b[32;1margs_from_prog\u001b[0m\u001b[36m = \u001b[0m<function args_from_prog at 0x7f6289016268>\u001b[0m\n",
      "\u001b[36m      \u001b[0m\u001b[32;1mSCRIPT_INFO\u001b[0m\u001b[36m = \u001b[0mnamespace(func=None)\u001b[0m\n",
      "\u001b[36m      \u001b[0m\u001b[32;1mcall_parse\u001b[0m\u001b[36m = \u001b[0m<function call_parse at 0x7f62890162f0>\u001b[0m\n",
      "\u001b[36m      \u001b[0m\u001b[32;1mnp\u001b[0m\u001b[36m = \u001b[0m<module 'numpy' from '/usr/local/lib/python3.6/dist-packages/numpy/__init__.py'>\u001b[0m\n",
      "\u001b[36m      \u001b[0m\u001b[32;1mcopy\u001b[0m\u001b[36m = \u001b[0m<function copy at 0x7f6294361bf8>\u001b[0m\n",
      "\u001b[36m      \u001b[0m\u001b[32;1mos\u001b[0m\u001b[36m = \u001b[0m<module 'os' from '/usr/lib/python3.6/os.py'>\u001b[0m\n",
      "\u001b[36m      \u001b[0m\u001b[32;1mrandom\u001b[0m\u001b[36m = \u001b[0m<module 'random' from '/usr/lib/python3.6/random.py'>\u001b[0m\n",
      "\u001b[36m      \u001b[0m\u001b[32;1mtime\u001b[0m\u001b[36m = \u001b[0m<module 'time' (built-in)>\u001b[0m\n",
      "\u001b[36m      \u001b[0m\u001b[32;1mprogressbar\u001b[0m\u001b[36m = \u001b[0m<module 'progressbar' from '/root/.local/lib/python3.6/site-packages/progressbar/__init__.py'>\u001b[0m\n",
      "\u001b[36m      \u001b[0m\u001b[32;1mFormatLabel\u001b[0m\u001b[36m = \u001b[0m<class 'progressbar.widgets.FormatLabel'>\u001b[0m\n",
      "\u001b[36m      \u001b[0m\u001b[32;1m_i4\u001b[0m\u001b[36m = \u001b[0m'def glob_suffixes(root_path: Path, suffixes: Union[List[str], str]) -> List[Path]:\\n    if isinstance(suffixes, str):\\n        suffixes = [suffixes]\\n    return sorted([f for f in root_path.glob(\"**/*\") if file_suffix_in(f, suffixes)])'\u001b[0m\n",
      "\u001b[36m      \u001b[0m\u001b[32;1mglob_suffixes\u001b[0m\u001b[36m = \u001b[0m<function glob_suffixes at 0x7f62690092f0>\u001b[0m\n",
      "\u001b[36m      \u001b[0m\u001b[32;1m_i5\u001b[0m\u001b[36m = \u001b[0m'# for debugging\\n\\nfrom traceback_with_variables import activate_in_ipython_by_import\\nfrom PIL import Image\\nfrom tempfile import TemporaryDirectory\\nfrom shutil import copytree'\u001b[0m\n",
      "\u001b[36m      \u001b[0m\u001b[32;1mactivate_in_ipython_by_import\u001b[0m\u001b[36m = \u001b[0m<module 'traceback_with_variables.activate_in_ipython_by_import' from '/usr/local/lib/python3.6/dist-packages/traceback_with_variables/activate_in_ipython_by_import.py'>\u001b[0m\n",
      "\u001b[36m      \u001b[0m\u001b[32;1mImage\u001b[0m\u001b[36m = \u001b[0m<module 'PIL.Image' from '/usr/local/lib/python3.6/dist-packages/PIL/Image.py'>\u001b[0m\n",
      "\u001b[36m      \u001b[0m\u001b[32;1mTemporaryDirectory\u001b[0m\u001b[36m = \u001b[0m<class 'tempfile.TemporaryDirectory'>\u001b[0m\n",
      "\u001b[36m      \u001b[0m\u001b[32;1mcopytree\u001b[0m\u001b[36m = \u001b[0m<function copytree at 0x7f6294361d90>\u001b[0m\n",
      "\u001b[36m      \u001b[0m\u001b[32;1m_i6\u001b[0m\u001b[36m = \u001b[0m'dropbox_path = Path(\"/tf/airt/data/testing/raw\")'\u001b[0m\n",
      "\u001b[36m      \u001b[0m\u001b[32;1mdropbox_path\u001b[0m\u001b[36m = \u001b[0mPath('/tf/airt/data/testing/raw')\u001b[0m\n",
      "\u001b[36m      \u001b[0m\u001b[32;1m_i7\u001b[0m\u001b[36m = \u001b[0m'@call_parse\\ndef get_suffixes(\\n    path: Param(\"input directory containing images\", Path),\\n    verbose: Param(\"\", bool) = True,\\n) -> Set[str]:\\n    \"\"\"Returns all unique suffixes\"\"\"\\n    path = Path(path)\\n    p = path.glob(\"**/*\")\\n    files = [x.suffix for x in p if x.is_file()]\\n    if verbose:\\n        print(list(set(x.lower() for x in files)))\\n    return set(x.lower() for x in files)'\u001b[0m\n",
      "\u001b[36m      \u001b[0m\u001b[32;1mget_suffixes\u001b[0m\u001b[36m = \u001b[0m<function get_suffixes at 0x7f6268fb7c80>\u001b[0m\n",
      "\u001b[36m      \u001b[0m\u001b[32;1m_i8\u001b[0m\u001b[36m = \u001b[0m'actual = get_suffixes(dropbox_path)\\n\\nexpected = set([\\'.jpg\\', \\'.xmp\\', \\'.png\\', \\'.tif\\', \\'.cr2\\', \\'.mov\\', \\'.info\\'])\\n\\nassert actual == expected, f\"{actual} != {expected}\"'\u001b[0m\n",
      "\u001b[36m      \u001b[0m\u001b[32;1mactual\u001b[0m\u001b[36m = \u001b[0m[Path('../data/testing/raw/AILeague_logo-200x113.png'), Path('../data/testing/raw/Iou_example1.jpg')]\u001b[0m\n",
      "\u001b[36m      \u001b[0m\u001b[32;1mexpected\u001b[0m\u001b[36m = \u001b[0m{'.jpg', '.cr2', '.xmp', '.info', '.png', '.mov', '.tif'}\u001b[0m\n",
      "\u001b[36m      \u001b[0m\u001b[32;1m_i9\u001b[0m\u001b[36m = \u001b[0m'def get_rand_file_with_suff(\\n    path: Path, suffix: str, case_insensitive: bool = True\\n) -> Path:\\n    \"\"\"Returns a random file that has a suffix equal to the variable suff\"\"\"\\n    if case_insensitive:\\n        p = [p for p in path.glob(f\"**/*\") if p.suffix.lower() == suffix.lower()]\\n    else:\\n        p = path.glob(f\"**/*{suffix}\")\\n    files = [x for x in p if x.is_file()]\\n    return random.choice(files)'\u001b[0m\n",
      "\u001b[36m      \u001b[0m\u001b[32;1mget_rand_file_with_suff\u001b[0m\u001b[36m = \u001b[0m<function get_rand_file_with_suff at 0x7f6269009730>\u001b[0m\n",
      "\u001b[36m      \u001b[0m\u001b[32;1m_i10\u001b[0m\u001b[36m = \u001b[0m'actual = get_rand_file_with_suff(dropbox_path, \".JpG\")\\ndisplay(actual)\\n\\nassert isinstance(actual, Path)\\nassert actual.exists()\\nassert actual.is_file()\\nassert actual.suffix.lower() == \".jpg\"'\u001b[0m\n",
      "\u001b[36m      \u001b[0m\u001b[32;1m_i11\u001b[0m\u001b[36m = \u001b[0m'def get_one_image_for_each_suffix(path: Path) -> List[Path]:\\n    \"\"\"Returns one random image for each suffix\"\"\"\\n    return [\\n        get_rand_file_with_suff(path, suffix)\\n        for suffix in get_suffixes(path, verbose=False)\\n    ]'\u001b[0m\n",
      "\u001b[36m      \u001b[0m\u001b[32;1mget_one_image_for_each_suffix\u001b[0m\u001b[36m = \u001b[0m<function get_one_image_for_each_suffix at 0x7f62885f0488>\u001b[0m\n",
      "\u001b[36m      \u001b[0m\u001b[32;1m_i12\u001b[0m\u001b[36m = \u001b[0m'display(get_one_image_for_each_suffix(dropbox_path))\\nassert len(get_suffixes(dropbox_path, verbose=False)) == len(\\n    get_one_image_for_each_suffix(dropbox_path)\\n)'\u001b[0m\n",
      "\u001b[36m      \u001b[0m\u001b[32;1m_i13\u001b[0m\u001b[36m = \u001b[0m'def create_sample_test_dir_if_needed(\\n    dst: Path = Path(\"../data/testing/raw\"),\\n) -> List[Path]:\\n    \"\"\"Creates samples for a test set\"\"\"\\n    dst.mkdir(parents=True, exist_ok=True)\\n    if len(list(dst.glob(\"*\"))) == 0:\\n        files = get_one_image_for_each_suffix(dropbox_path)\\n        for f in files:\\n            copy(f, dst)\\n    return list(dst.glob(\"*\"))'\u001b[0m\n",
      "\u001b[36m      \u001b[0m\u001b[32;1mcreate_sample_test_dir_if_needed\u001b[0m\u001b[36m = \u001b[0m<function create_sample_test_dir_if_needed at 0x7f6268fb7950>\u001b[0m\n",
      "\u001b[36m      \u001b[0m\u001b[32;1m_i14\u001b[0m\u001b[36m = \u001b[0m'expected_path = Path(\"../data/testing/raw\")\\nactual = create_sample_test_dir_if_needed()\\nassert expected_path.exists()\\nassert len(actual) > 0\\nactual'\u001b[0m\n",
      "\u001b[36m      \u001b[0m\u001b[32;1mexpected_path\u001b[0m\u001b[36m = \u001b[0mPath('../data/testing/raw')\u001b[0m\n",
      "\u001b[36m      \u001b[0m\u001b[32;1m_14\u001b[0m\u001b[36m = \u001b[0m[Path('../data/testing/raw/AILeague_logo-200x113.png'), Path('../data/testing/raw/Iou_example1.jpg')]\u001b[0m\n",
      "\u001b[36m      \u001b[0m\u001b[32;1m_i15\u001b[0m\u001b[36m = \u001b[0m'def convert_image_to_jpg_darktable(\\n    img_path: Path,\\n    *,\\n    suffixes_to_delete: List[str] = [\".mov\", \".mp4\"],\\n    remove_src: bool = False,\\n    update_msg_fn: Callable[[str], None] = print,\\n) -> str:\\n    update_msg_fn(f\"Processing {img_path}\")\\n    \"\"\"Converts image whose suffix is not in the skip_suffixes list, if remove_src = True then deletes the input image\"\"\"\\n    if img_path.suffix.lower() != \".jpg\":\\n        dst = img_path.parent / (img_path.stem + \".jpg\")\\n        if img_path.suffix.lower() in suffixes_to_delete:\\n            if remove_src:\\n                retmsg = f\"Removed {img_path} because {img_path.suffix.lower()} is in {suffixes_to_delete}\"\\n                img_path.unlink()\\n            else:\\n                retmsg = f\"Not removing {img_path} although {img_path.suffix.lower()} is in {suffixes_to_delete}\"\\n            return None, retmsg\\n        if dst.exists() and remove_src:\\n            img_path.unlink()\\n            retmsg = f\"Removed {img_path} beca...\u001b[0m\n",
      "\u001b[36m      \u001b[0m\u001b[32;1mconvert_image_to_jpg_darktable\u001b[0m\u001b[36m = \u001b[0m<function convert_image_to_jpg_darktable at 0x7f6267ad3ea0>\u001b[0m\n",
      "\u001b[36m      \u001b[0m\u001b[32;1m_i16\u001b[0m\u001b[36m = \u001b[0m'with TemporaryDirectory() as src_dir:\\n    src_dir = Path(src_dir) / \"raw\"\\n    copytree(\"../data/testing/raw/\", src_dir)\\n    tif_path = [x for x in src_dir.glob(\"*.tif\")][0]\\n    new_tif = tif_path.parent / (tif_path.stem + \"_copy\" + tif_path.suffix)\\n    copy(tif_path, new_tif)\\n    before_files = [x for x in src_dir.glob(\"*\")]\\n    jpg_before = [x for x in before_files if x.suffix.lower() == \".jpg\"]\\n    for image_path in src_dir.glob(\"*\"):\\n        dst, msg = convert_image_to_jpg_darktable(image_path, remove_src=True)\\n        assert not dst or dst.exists()\\n        print(msg)\\n    after_files = [x for x in src_dir.glob(\"*\")]\\n    assert len(before_files) == len(after_files) \\n    display(sorted(before_files))\\n    display(sorted(after_files))\\n    jpg_after = [x for x in after_files if x.suffix.lower() == \".jpg\"]\\n    assert len(jpg_after) == len(jpg_before) \\n\\n    for img_after in jpg_after:\\n        if img_after.suffix.lower() == \".jpg\":\\n            print(img_after)\\n       ...\u001b[0m\n",
      "\u001b[36m      \u001b[0m\u001b[32;1msrc_dir\u001b[0m\u001b[36m = \u001b[0mPath('/tmp/tmpni9zpf9q/raw')\u001b[0m\n",
      "\u001b[31mbuiltins.IndexError:\u001b[0m\u001b[91m list index out of range\u001b[0m\n"
     ]
    }
   ],
   "source": [
    "with TemporaryDirectory() as src_dir:\n",
    "    src_dir = Path(src_dir) / \"raw\"\n",
    "    copytree(\"../data/testing/raw/\", src_dir)\n",
    "    tif_path = [x for x in src_dir.glob(\"*.tif\")][0]\n",
    "    new_tif = tif_path.parent / (tif_path.stem + \"_copy\" + tif_path.suffix)\n",
    "    copy(tif_path, new_tif)\n",
    "    before_files = [x for x in src_dir.glob(\"*\")]\n",
    "    jpg_before = [x for x in before_files if x.suffix.lower() == \".jpg\"]\n",
    "    for image_path in src_dir.glob(\"*\"):\n",
    "        dst, msg = convert_image_to_jpg_darktable(image_path, remove_src=True)\n",
    "        assert not dst or dst.exists()\n",
    "        print(msg)\n",
    "    after_files = [x for x in src_dir.glob(\"*\")]\n",
    "    assert len(before_files) == len(after_files) \n",
    "    display(sorted(before_files))\n",
    "    display(sorted(after_files))\n",
    "    jpg_after = [x for x in after_files if x.suffix.lower() == \".jpg\"]\n",
    "    assert len(jpg_after) == len(jpg_before) \n",
    "\n",
    "    for img_after in jpg_after:\n",
    "        if img_after.suffix.lower() == \".jpg\":\n",
    "            print(img_after)\n",
    "            display(Image.open(img_after).resize((300, 200)))"
   ]
  },
  {
   "cell_type": "code",
   "execution_count": null,
   "metadata": {},
   "outputs": [],
   "source": [
    "@call_parse\n",
    "def convert_files_with_darktable(\n",
    "    root_path: Param(\"input directory containing images to convert\", Path),\n",
    "    remove_src: Param(\"input True if you want to delete the images \", bool) = True,\n",
    "):\n",
    "    \"\"\"Calls the convert_image_to_jpg() function on all images in the path\"\"\"\n",
    "    root_path = Path(root_path)\n",
    "    widgets = [\n",
    "        FormatLabel(\"\"),\n",
    "        \" [\",\n",
    "        progressbar.Timer(),\n",
    "        \"] \",\n",
    "        progressbar.Bar(),\n",
    "        progressbar.Percentage(\"%(percentage)5.2f%%\"),\n",
    "        \" (\",\n",
    "        progressbar.AdaptiveETA(),\n",
    "        \") \",\n",
    "    ]\n",
    "    files = sorted([x for x in root_path.glob(\"**/*\") if x.is_file()])\n",
    "    n_files = len(files)\n",
    "\n",
    "    def update_msg(msg):\n",
    "        widgets[0] = FormatLabel(f\"[{i:4d}/{n_files}] {msg}\")\n",
    "\n",
    "    log = []\n",
    "    with progressbar.ProgressBar(max_value=len(files), widgets=widgets) as bar:\n",
    "        for i, src in enumerate(files):\n",
    "            _, msg = convert_image_to_jpg_darktable(\n",
    "                src, remove_src=remove_src, update_msg_fn=update_msg\n",
    "            )\n",
    "            log.append(msg)\n",
    "            bar.update(i)\n",
    "    print(f\"Conversion completed {len(files)}/{len(files)}\")\n",
    "\n",
    "    for msg in log:\n",
    "        print(msg)"
   ]
  },
  {
   "cell_type": "code",
   "execution_count": null,
   "metadata": {},
   "outputs": [],
   "source": [
    "with TemporaryDirectory() as src_dir:\n",
    "    src_dir = Path(src_dir) / \"raw\"\n",
    "    copytree(\"../data/testing/raw/\", src_dir)\n",
    "    copytree(\"../data/testing/raw/\", src_dir / \"jedan\")\n",
    "    copytree(\"../data/testing/raw/\", src_dir / \"jedan\" / \"dva\")\n",
    "    copytree(\"../data/testing/raw/\", src_dir / \"tri\")\n",
    "    copytree(\"../data/testing/raw/\", src_dir / \"tri\" / \"cetiri\")\n",
    "    files_before = list(src_dir.glob(\"**/*\"))\n",
    "\n",
    "    # the main thing\n",
    "    convert_files_with_darktable(src_dir, remove_src=True)\n",
    "\n",
    "    files_after = list(src_dir.glob(\"**/*\"))\n",
    "\n",
    "    assert (\n",
    "        len(files_before) == len(files_after)\n",
    "    ), f\"len({files_before}) != len({files_after})\""
   ]
  },
  {
   "cell_type": "code",
   "execution_count": null,
   "metadata": {},
   "outputs": [],
   "source": []
  }
 ],
 "metadata": {
  "kernelspec": {
   "display_name": "Python 3",
   "language": "python",
   "name": "python3"
  }
 },
 "nbformat": 4,
 "nbformat_minor": 2
}
