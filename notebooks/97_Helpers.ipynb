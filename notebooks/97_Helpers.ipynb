{
 "cells": [
  {
   "cell_type": "code",
   "execution_count": null,
   "metadata": {},
   "outputs": [],
   "source": [
    "# default_exp helpers"
   ]
  },
  {
   "cell_type": "markdown",
   "metadata": {},
   "source": [
    "# Helpers\n",
    "> Helpers. This functions are not required for competitors but was developed to prepare the dataset for the competition.\n"
   ]
  },
  {
   "cell_type": "code",
   "execution_count": null,
   "metadata": {},
   "outputs": [],
   "source": [
    "# export\n",
    "\n",
    "from pathlib import Path"
   ]
  },
  {
   "cell_type": "code",
   "execution_count": null,
   "metadata": {},
   "outputs": [],
   "source": [
    "#export\n",
    "\n",
    "def ensure(p, msg: str=None):\n",
    "    \"\"\" Ensures that p value is True\n",
    "    \"\"\"\n",
    "    if not p:\n",
    "        raise ValueError(msg)\n",
    "        \n",
    "def ensure_equal(x, y, msg: str=None):\n",
    "    \"\"\" Ensures that two objects are equal\n",
    "    \"\"\"\n",
    "    \n",
    "    if msg is None:\n",
    "        msg = f\"{x} != {y}\"\n",
    "    ensure(x == y, msg)\n",
    "    \n",
    "def ensure_exists(f: Path, msg: str=None):\n",
    "    \"\"\" Ensures that path exists\n",
    "    \"\"\"\n",
    "    \n",
    "    if msg is None:\n",
    "        msg = f\"{f} does not exist\"\n",
    "    ensure(f.exists(), msg)    "
   ]
  },
  {
   "cell_type": "code",
   "execution_count": null,
   "metadata": {},
   "outputs": [],
   "source": [
    "# skip\n",
    "\n",
    "from pytest import raises\n",
    "\n",
    "with raises(ValueError) as e:\n",
    "    ensure_equal(\"a\", 2)\n",
    "\n",
    "ensure_equal(\"a\", \"a\")"
   ]
  },
  {
   "cell_type": "code",
   "execution_count": null,
   "metadata": {},
   "outputs": [],
   "source": []
  }
 ],
 "metadata": {
  "kernelspec": {
   "display_name": "Python 3",
   "language": "python",
   "name": "python3"
  }
 },
 "nbformat": 4,
 "nbformat_minor": 2
}
